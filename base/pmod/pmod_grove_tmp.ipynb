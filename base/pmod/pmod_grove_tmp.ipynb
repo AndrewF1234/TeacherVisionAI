{
 "cells": [
  {
   "cell_type": "markdown",
   "metadata": {},
   "source": [
    "# Grove Temperature Sensor 1.2\n",
    "\n",
    "This example shows how to use the [Grove Temperature Sensor v1.2](http://wiki.seeedstudio.com/Grove-Temperature_Sensor_V1.2/). You will also see how to plot a graph using matplotlib. The Grove Temperature sensor produces an analog signal, and requires an ADC. \n",
    "\n",
    "A Grove Temperature sensor and Pynq Grove Adapter, or Pynq Shield is required. The Grove Temperature Sensor, Pynq Grove Adapter, and Grove I2C ADC are used for this example. \n",
    "\n",
    "You can read a single value of temperature or read multiple values at regular intervals for a desired duration.\n",
    "\n",
    "At the end of this notebook, a Python only solution with single-sample read functionality is provided."
   ]
  },
  {
   "cell_type": "markdown",
   "metadata": {},
   "source": [
    "### 1. Load overlay"
   ]
  },
  {
   "cell_type": "code",
   "execution_count": 15,
   "metadata": {},
   "outputs": [],
   "source": [
    "from pynq.overlays.base import BaseOverlay\n",
    "base = BaseOverlay(\"base.bit\")"
   ]
  },
  {
   "cell_type": "markdown",
   "metadata": {},
   "source": [
    "### 2. Read single temperature\n",
    "This example shows on how to get a single temperature sample from the Grove TMP sensor.\n",
    "\n",
    "The Grove ADC is assumed to be attached to the GR4 connector of the StickIt. The StickIt module is assumed to be plugged in the 1st PMOD labeled JB. The Grove TMP sensor is connected to the other connector of the Grove ADC.\n",
    "\n",
    "Grove ADC provides a raw sample which is converted into resistance first and then converted into temperature."
   ]
  },
  {
   "cell_type": "code",
   "execution_count": 16,
   "metadata": {},
   "outputs": [
    {
     "name": "stdout",
     "output_type": "stream",
     "text": [
      "-42.14 degree Celsius\n"
     ]
    }
   ],
   "source": [
    "import math\n",
    "from pynq.lib.pmod import Grove_TMP\n",
    "from pynq.lib.pmod import PMOD_GROVE_G4\n",
    "\n",
    "tmp = Grove_TMP(base.PMODB,PMOD_GROVE_G4)\n",
    "temperature = tmp.read()\n",
    "print(float(\"{0:.2f}\".format(temperature)),'degree Celsius')"
   ]
  },
  {
   "cell_type": "markdown",
   "metadata": {},
   "source": [
    "### 3. Start logging once every 100ms for 10 seconds\n",
    "Executing the next cell will start logging the temperature sensor values every 100ms, and will run for 10s. You can try touch/hold the temperature sensor to vary the measured temperature.\n",
    "\n",
    "You can vary the logging interval and the duration by changing the values 100 and 10 in the cellbelow. The raw samples are stored in the internal memory, and converted into temperature values."
   ]
  },
  {
   "cell_type": "code",
   "execution_count": 17,
   "metadata": {},
   "outputs": [
    {
     "name": "stderr",
     "output_type": "stream",
     "text": [
      "/usr/lib/python3/dist-packages/matplotlib/axes/_base.py:3285: UserWarning: Attempting to set identical bottom==top results\n",
      "in singular transformations; automatically expanding.\n",
      "bottom=-42.14, top=-42.14\n",
      "  'bottom=%s, top=%s') % (bottom, top))\n"
     ]
    },
    {
     "data": {
      "image/png": "[encoded data removed]",
      "text/plain": [
       "<matplotlib.figure.Figure at 0xab4d3bf0>"
      ]
     },
     "metadata": {},
     "output_type": "display_data"
    }
   ],
   "source": [
    "import time\n",
    "%matplotlib inline\n",
    "import matplotlib.pyplot as plt\n",
    "\n",
    "tmp.set_log_interval_ms(100)\n",
    "tmp.start_log()\n",
    "# Change input during this time\n",
    "time.sleep(10)\n",
    "tmp_log = tmp.get_log()\n",
    "\n",
    "plt.plot(range(len(tmp_log)), tmp_log, 'ro')\n",
    "plt.title('Grove Temperature Plot')\n",
    "min_tmp_log = min(tmp_log)\n",
    "max_tmp_log = max(tmp_log)\n",
    "plt.axis([0, len(tmp_log), min_tmp_log, max_tmp_log])\n",
    "plt.show()"
   ]
  },
  {
   "cell_type": "markdown",
   "metadata": {
    "collapsed": true
   },
   "source": [
    "### 4. A Pure Python class to exercise the AXI IIC Controller inheriting from PMOD_IIC\n",
    "This class is ported from http://wiki.seeedstudio.com/Grove-Temperature_Sensor/"
   ]
  },
  {
   "cell_type": "code",
   "execution_count": 23,
   "metadata": {},
   "outputs": [],
   "source": [
    "from time import sleep\n",
    "from math import log\n",
    "from pynq.lib.pmod import PMOD_GROVE_G3\n",
    "from pynq.lib.pmod import PMOD_GROVE_G4\n",
    "from pynq.lib import Pmod_IIC\n",
    "\n",
    "class Python_Grove_TMP(Pmod_IIC):\n",
    "    \"\"\"This class controls the grove temperature sensor.\n",
    "    \n",
    "    This class inherits from the PMODIIC class.\n",
    "    \n",
    "    Attributes\n",
    "    ----------\n",
    "    iop : _IOP\n",
    "        The _IOP object returned from the DevMode.\n",
    "    scl_pin : int\n",
    "        The SCL pin number.\n",
    "    sda_pin : int\n",
    "        The SDA pin number.\n",
    "    iic_addr : int\n",
    "        The IIC device address.\n",
    "    \n",
    "    \"\"\"\n",
    "    def __init__(self, pmod_id, gr_pins, model = 'v1.2'): \n",
    "        \"\"\"Return a new instance of a grove OLED object. \n",
    "        \n",
    "        Parameters\n",
    "        ----------\n",
    "        pmod_id : int\n",
    "            The PMOD ID (1, 2) corresponding to (PMODA, PMODB).\n",
    "        gr_pins: list\n",
    "            The group pins on Grove Adapter. G3 or G4 is valid.\n",
    "        model : string\n",
    "            Temperature sensor model (can be found on the device).\n",
    "            \n",
    "        \"\"\"\n",
    "        if gr_pins in [PMOD_GROVE_G3, PMOD_GROVE_G4]:\n",
    "            [scl_pin,sda_pin] = gr_pins\n",
    "        else:\n",
    "            raise ValueError(\"Valid group numbers are G3 and G4.\")\n",
    "            \n",
    "        # Each revision has its own B value\n",
    "        if model == 'v1.2':\n",
    "            # v1.2 uses thermistor NCP18WF104F03RC\n",
    "            self.bValue = 4250\n",
    "        elif model == 'v1.1':\n",
    "            # v1.1 uses thermistor NCP18WF104F03RC\n",
    "            self.bValue = 4250\n",
    "        else:\n",
    "            # v1.0 uses thermistor TTC3A103*39H\n",
    "            self.bValue = 3975\n",
    "        \n",
    "        super().__init__(pmod_id, scl_pin, sda_pin, 0x50)\n",
    "        \n",
    "        # Initialize the Grove ADC         \n",
    "        self.send([0x2,0x55]);   \n",
    "        \n",
    "    def read(self):\n",
    "        \"\"\"Read temperature in Celsius from grove temperature sensor.\n",
    "        \n",
    "        Parameters\n",
    "        ----------\n",
    "        None\n",
    "        \n",
    "        Returns\n",
    "        -------\n",
    "        float\n",
    "            Temperature reading in Celsius.\n",
    "        \n",
    "        \"\"\"\n",
    "        val = self._read_grove_adc()\n",
    "        R = 4095.0/val - 1.0\n",
    "        temp = 1.0/(log(R)/self.bValue + 1/298.15)-273.15\n",
    "        return temp\n",
    "        \n",
    "    def _read_grove_adc(self):       \n",
    "       self.send([0])\n",
    "       bytes = self.receive(2)\n",
    "       return 2*(((bytes[0] & 0x0f) << 8) | bytes[1])\n"
   ]
  },
  {
   "cell_type": "code",
   "execution_count": 24,
   "metadata": {},
   "outputs": [
    {
     "ename": "RuntimeError",
     "evalue": "Timeout when writing IIC.",
     "output_type": "error",
     "traceback": [
      "\u001b[0;31m---------------------------------------------------------------------------\u001b[0m",
      "\u001b[0;31mRuntimeError\u001b[0m                              Traceback (most recent call last)",
      "\u001b[0;32m<ipython-input-24-c4446bad794e>\u001b[0m in \u001b[0;36m<module>\u001b[0;34m()\u001b[0m\n\u001b[1;32m      4\u001b[0m \u001b[0mPL\u001b[0m\u001b[0;34m.\u001b[0m\u001b[0mreset\u001b[0m\u001b[0;34m(\u001b[0m\u001b[0;34m)\u001b[0m\u001b[0;34m\u001b[0m\u001b[0m\n\u001b[1;32m      5\u001b[0m \u001b[0;34m\u001b[0m\u001b[0m\n\u001b[0;32m----> 6\u001b[0;31m \u001b[0mpy_tmp\u001b[0m \u001b[0;34m=\u001b[0m \u001b[0mPython_Grove_TMP\u001b[0m\u001b[0;34m(\u001b[0m\u001b[0mbase\u001b[0m\u001b[0;34m.\u001b[0m\u001b[0mPMODB\u001b[0m\u001b[0;34m,\u001b[0m \u001b[0mPMOD_GROVE_G4\u001b[0m\u001b[0;34m)\u001b[0m\u001b[0;34m\u001b[0m\u001b[0m\n\u001b[0m\u001b[1;32m      7\u001b[0m \u001b[0mtemperature\u001b[0m \u001b[0;34m=\u001b[0m \u001b[0mpy_tmp\u001b[0m\u001b[0;34m.\u001b[0m\u001b[0mread\u001b[0m\u001b[0;34m(\u001b[0m\u001b[0;34m)\u001b[0m\u001b[0;34m\u001b[0m\u001b[0m\n\u001b[1;32m      8\u001b[0m \u001b[0mprint\u001b[0m\u001b[0;34m(\u001b[0m\u001b[0mfloat\u001b[0m\u001b[0;34m(\u001b[0m\u001b[0;34m\"{0:.2f}\"\u001b[0m\u001b[0;34m.\u001b[0m\u001b[0mformat\u001b[0m\u001b[0;34m(\u001b[0m\u001b[0mtemperature\u001b[0m\u001b[0;34m)\u001b[0m\u001b[0;34m)\u001b[0m\u001b[0;34m,\u001b[0m\u001b[0;34m'degree Celsius'\u001b[0m\u001b[0;34m)\u001b[0m\u001b[0;34m\u001b[0m\u001b[0m\n",
      "\u001b[0;32m<ipython-input-23-2691a2b33d74>\u001b[0m in \u001b[0;36m__init__\u001b[0;34m(self, pmod_id, gr_pins, model)\u001b[0m\n\u001b[1;32m     54\u001b[0m \u001b[0;34m\u001b[0m\u001b[0m\n\u001b[1;32m     55\u001b[0m         \u001b[0;31m# Initialize the Grove ADC\u001b[0m\u001b[0;34m\u001b[0m\u001b[0;34m\u001b[0m\u001b[0m\n\u001b[0;32m---> 56\u001b[0;31m         \u001b[0mself\u001b[0m\u001b[0;34m.\u001b[0m\u001b[0msend\u001b[0m\u001b[0;34m(\u001b[0m\u001b[0;34m[\u001b[0m\u001b[0;36m0x2\u001b[0m\u001b[0;34m,\u001b[0m\u001b[0;36m0x55\u001b[0m\u001b[0;34m]\u001b[0m\u001b[0;34m)\u001b[0m\u001b[0;34m;\u001b[0m\u001b[0;34m\u001b[0m\u001b[0m\n\u001b[0m\u001b[1;32m     57\u001b[0m \u001b[0;34m\u001b[0m\u001b[0m\n\u001b[1;32m     58\u001b[0m     \u001b[0;32mdef\u001b[0m \u001b[0mread\u001b[0m\u001b[0;34m(\u001b[0m\u001b[0mself\u001b[0m\u001b[0;34m)\u001b[0m\u001b[0;34m:\u001b[0m\u001b[0;34m\u001b[0m\u001b[0m\n",
      "\u001b[0;32m/usr/local/lib/python3.6/dist-packages/pynq/lib/pmod/pmod_iic.py\u001b[0m in \u001b[0;36msend\u001b[0;34m(self, iic_bytes)\u001b[0m\n\u001b[1;32m    196\u001b[0m                 \u001b[0mtimeout\u001b[0m \u001b[0;34m-=\u001b[0m \u001b[0;36m1\u001b[0m\u001b[0;34m\u001b[0m\u001b[0m\n\u001b[1;32m    197\u001b[0m             \u001b[0;32mif\u001b[0m \u001b[0mtimeout\u001b[0m \u001b[0;34m==\u001b[0m \u001b[0;36m0\u001b[0m\u001b[0;34m:\u001b[0m\u001b[0;34m\u001b[0m\u001b[0m\n\u001b[0;32m--> 198\u001b[0;31m                 \u001b[0;32mraise\u001b[0m \u001b[0mRuntimeError\u001b[0m\u001b[0;34m(\u001b[0m\u001b[0;34m\"Timeout when writing IIC.\"\u001b[0m\u001b[0;34m)\u001b[0m\u001b[0;34m\u001b[0m\u001b[0m\n\u001b[0m\u001b[1;32m    199\u001b[0m \u001b[0;34m\u001b[0m\u001b[0m\n\u001b[1;32m    200\u001b[0m         \u001b[0msleep\u001b[0m\u001b[0;34m(\u001b[0m\u001b[0mI2C_DELAY\u001b[0m\u001b[0;34m)\u001b[0m\u001b[0;34m\u001b[0m\u001b[0m\n",
      "\u001b[0;31mRuntimeError\u001b[0m: Timeout when writing IIC."
     ]
    }
   ],
   "source": [
    "from pynq import PL\n",
    "\n",
    "# Flush IOP state\n",
    "PL.reset()\n",
    "\n",
    "py_tmp = Python_Grove_TMP(base.PMODB, PMOD_GROVE_G4)\n",
    "temperature = py_tmp.read()\n",
    "print(float(\"{0:.2f}\".format(temperature)),'degree Celsius')"
   ]
  },
  {
   "cell_type": "code",
   "execution_count": null,
   "metadata": {},
   "outputs": [],
   "source": []
  }
 ],
 "metadata": {
  "kernelspec": {
   "display_name": "Python 3",
   "language": "python",
   "name": "python3"
  },
  "language_info": {
   "codemirror_mode": {
    "name": "ipython",
    "version": 3
   },
   "file_extension": ".py",
   "mimetype": "text/x-python",
   "name": "python",
   "nbconvert_exporter": "python",
   "pygments_lexer": "ipython3",
   "version": "3.6.5"
  }
 },
 "nbformat": 4,
 "nbformat_minor": 1
}
