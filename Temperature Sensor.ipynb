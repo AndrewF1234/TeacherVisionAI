{
 "cells": [
  {
   "cell_type": "markdown",
   "metadata": {},
   "source": [
    "## Temperature"
   ]
  },
  {
   "cell_type": "markdown",
   "metadata": {},
   "source": [
    "The code below is from https://github.com/Xilinx/PYNQ_Peripherals/blob/main/pynq_peripherals/modules/grove_temperature/notebooks/grove_temperature.ipynb\n",
    "\n",
    "https://notebook.community/AEW2015/PYNQ_PR_Overlay/Pynq-Z1/notebooks/examples/pmod_grove_tmp\n",
    "\n",
    "https://community.element14.com/products/roadtest/b/blog/posts/pynq-z2-dev-kit---external-peripherals"
   ]
  },
  {
   "cell_type": "markdown",
   "metadata": {},
   "source": [
    "### Installations"
   ]
  },
  {
   "cell_type": "markdown",
   "metadata": {},
   "source": [
    "#### No longer need to run\n"
   ]
  },
  {
   "cell_type": "code",
   "execution_count": 3,
   "metadata": {
    "scrolled": true
   },
   "outputs": [
    {
     "name": "stdout",
     "output_type": "stream",
     "text": [
      "Requirement already satisfied: xlwt in /usr/local/lib/python3.6/dist-packages (1.3.0)\n",
      "\u001b[33mWARNING: Running pip as the 'root' user can result in broken permissions and conflicting behaviour with the system package manager. It is recommended to use a virtual environment instead: https://pip.pypa.io/warnings/venv\u001b[0m\n",
      "Processing ./pynq_bootcamp/bootcamp_sessions/pynq-p2p\n",
      "  Preparing metadata (setup.py) ... \u001b[?25ldone\n",
      "\u001b[?25hBuilding wheels for collected packages: pynqp2p\n",
      "  Building wheel for pynqp2p (setup.py) ... \u001b[?25ldone\n",
      "\u001b[?25h  Created wheel for pynqp2p: filename=pynqp2p-0.2.0-py3-none-any.whl size=3305 sha256=21cf16e53f961692bf510dc3788b13167408b8481ff281f3aa00c98e3b6fc754\n",
      "  Stored in directory: /root/.cache/pip/wheels/e7/6b/21/d1ada3a8c6ef5a96fb28f55c721db4222887f8d7f643fb4bff\n",
      "Successfully built pynqp2p\n",
      "Installing collected packages: pynqp2p\n",
      "  Attempting uninstall: pynqp2p\n",
      "    Found existing installation: pynqp2p 0.2.0\n",
      "    Uninstalling pynqp2p-0.2.0:\n",
      "      Successfully uninstalled pynqp2p-0.2.0\n",
      "Successfully installed pynqp2p-0.2.0\n",
      "\u001b[33mWARNING: Running pip as the 'root' user can result in broken permissions and conflicting behaviour with the system package manager. It is recommended to use a virtual environment instead: https://pip.pypa.io/warnings/venv\u001b[0m\n"
     ]
    }
   ],
   "source": [
    "!{sys.executable} -m pip install xlwt\n",
    "!pip3 install ./pynq_bootcamp/bootcamp_sessions/pynq-p2p"
   ]
  },
  {
   "cell_type": "markdown",
   "metadata": {},
   "source": [
    "### Imports"
   ]
  },
  {
   "cell_type": "code",
   "execution_count": 4,
   "metadata": {},
   "outputs": [],
   "source": [
    "import time\n",
    "import sys\n",
    "import pynqp2p\n",
    "from datetime import datetime\n",
    "from pynq.overlays.base import BaseOverlay\n",
    "from pynq_peripherals import ArduinoSEEEDGroveAdapter, PmodGroveAdapter\n",
    "from xlwt import Workbook"
   ]
  },
  {
   "cell_type": "code",
   "execution_count": 5,
   "metadata": {},
   "outputs": [
    {
     "ename": "RuntimeError",
     "evalue": "pynqp2p already running",
     "output_type": "error",
     "traceback": [
      "\u001b[0;31m---------------------------------------------------------------------------\u001b[0m",
      "\u001b[0;31mRuntimeError\u001b[0m                              Traceback (most recent call last)",
      "\u001b[0;32m<ipython-input-5-64888e614322>\u001b[0m in \u001b[0;36m<module>\u001b[0;34m()\u001b[0m\n\u001b[1;32m      1\u001b[0m \u001b[0;32mimport\u001b[0m \u001b[0mpynqp2p\u001b[0m\u001b[0;34m\u001b[0m\u001b[0m\n\u001b[0;32m----> 2\u001b[0;31m \u001b[0mpynqp2p\u001b[0m\u001b[0;34m.\u001b[0m\u001b[0mlaunch\u001b[0m\u001b[0;34m(\u001b[0m\u001b[0;34m)\u001b[0m\u001b[0;34m\u001b[0m\u001b[0m\n\u001b[0m",
      "\u001b[0;32m/usr/local/lib/python3.6/dist-packages/pynqp2p/__init__.py\u001b[0m in \u001b[0;36mlaunch\u001b[0;34m()\u001b[0m\n\u001b[1;32m     14\u001b[0m     \u001b[0mtemp_file\u001b[0m \u001b[0;34m=\u001b[0m \u001b[0mPath\u001b[0m\u001b[0;34m(\u001b[0m\u001b[0mTEMP_FILE\u001b[0m\u001b[0;34m)\u001b[0m\u001b[0;34m\u001b[0m\u001b[0m\n\u001b[1;32m     15\u001b[0m     \u001b[0;32mif\u001b[0m \u001b[0mtemp_file\u001b[0m\u001b[0;34m.\u001b[0m\u001b[0mis_file\u001b[0m\u001b[0;34m(\u001b[0m\u001b[0;34m)\u001b[0m\u001b[0;34m:\u001b[0m\u001b[0;34m\u001b[0m\u001b[0m\n\u001b[0;32m---> 16\u001b[0;31m        \u001b[0;32mraise\u001b[0m \u001b[0mRuntimeError\u001b[0m\u001b[0;34m(\u001b[0m\u001b[0;34m'pynqp2p already running'\u001b[0m\u001b[0;34m)\u001b[0m\u001b[0;34m\u001b[0m\u001b[0m\n\u001b[0m\u001b[1;32m     17\u001b[0m \u001b[0;34m\u001b[0m\u001b[0m\n\u001b[1;32m     18\u001b[0m     \u001b[0;31m# remove log folder\u001b[0m\u001b[0;34m\u001b[0m\u001b[0;34m\u001b[0m\u001b[0m\n",
      "\u001b[0;31mRuntimeError\u001b[0m: pynqp2p already running"
     ]
    }
   ],
   "source": [
    "import pynqp2p\n",
    "pynqp2p.launch()"
   ]
  },
  {
   "cell_type": "markdown",
   "metadata": {},
   "source": [
    "### Declarations"
   ]
  },
  {
   "cell_type": "code",
   "execution_count": 6,
   "metadata": {},
   "outputs": [],
   "source": [
    "base = BaseOverlay('base.bit')\n",
    "adapter =ArduinoSEEEDGroveAdapter(base.ARDUINO, I2C='grove_temperature')\n",
    "temp_sensor = adapter.I2C\n",
    "wb = Workbook()\n",
    "time_slot = 10 # seconds\n",
    "btn0 = base.buttons[0]\n",
    "led0 = base.leds[0]\n",
    "led0.off()"
   ]
  },
  {
   "cell_type": "markdown",
   "metadata": {},
   "source": [
    "### Code"
   ]
  },
  {
   "cell_type": "code",
   "execution_count": 7,
   "metadata": {
    "scrolled": false
   },
   "outputs": [
    {
     "name": "stdout",
     "output_type": "stream",
     "text": [
      "Temperature recorded and sent at: 87.66 2022-10-19 22:36:48.905736\n",
      "Temperature recorded and sent at: 87.42 2022-10-19 22:36:58.923252\n",
      "Temperature recorded and sent at: 87.50 2022-10-19 22:37:08.938371\n",
      "Temperature recorded and sent at: 87.81 2022-10-19 22:37:18.954175\n",
      "Temperature recorded and sent at: 88.12 2022-10-19 22:37:28.970001\n",
      "Temperature recorded and sent at: 88.20 2022-10-19 22:37:38.985976\n",
      "Temperature recorded and sent at: 88.28 2022-10-19 22:37:49.001822\n",
      "Temperature recorded and sent at: 88.43 2022-10-19 22:37:59.017301\n",
      "Temperature recorded and sent at: 88.43 2022-10-19 22:38:09.031746\n",
      "Temperature recorded and sent at: 88.59 2022-10-19 22:38:19.047069\n",
      "Temperature recorded and sent at: 88.51 2022-10-19 22:38:29.061890\n",
      "Temperature recorded and sent at: 88.43 2022-10-19 22:38:39.078814\n",
      "Temperature recorded and sent at: 88.59 2022-10-19 22:38:49.093799\n",
      "Temperature recorded and sent at: 88.59 2022-10-19 22:38:59.108965\n",
      "Temperature recorded and sent at: 88.67 2022-10-19 22:39:09.124198\n",
      "Temperature recorded and sent at: 88.51 2022-10-19 22:39:19.139766\n",
      "Temperature recorded and sent at: 88.67 2022-10-19 22:39:29.154982\n",
      "Temperature recorded and sent at: 88.67 2022-10-19 22:39:39.170114\n",
      "Temperature recorded and sent at: 88.75 2022-10-19 22:39:49.185353\n",
      "Temperature recorded and sent at: 88.67 2022-10-19 22:39:59.200484\n",
      "Temperature recorded and sent at: 88.90 2022-10-19 22:40:09.216521\n",
      "Temperature recorded and sent at: 88.82 2022-10-19 22:40:19.231644\n",
      "Temperature recorded and sent at: 89.14 2022-10-19 22:40:29.246625\n",
      "Temperature recorded and sent at: 89.06 2022-10-19 22:40:39.262479\n",
      "Temperature recorded and sent at: 88.82 2022-10-19 22:40:49.278343\n",
      "Temperature recorded and sent at: 88.43 2022-10-19 22:40:59.294215\n",
      "Temperature recorded and sent at: 88.35 2022-10-19 22:41:09.309414\n",
      "Temperature recorded and sent at: 88.04 2022-10-19 22:41:19.324667\n",
      "Temperature recorded and sent at: 87.73 2022-10-19 22:41:29.342153\n",
      "Temperature recorded and sent at: 87.66 2022-10-19 22:41:39.357710\n",
      "Temperature recorded and sent at: 87.50 2022-10-19 22:41:49.373616\n",
      "Temperature recorded and sent at: 87.42 2022-10-19 22:41:59.388807\n",
      "Temperature recorded and sent at: 87.42 2022-10-19 22:42:09.403823\n",
      "Temperature recorded and sent at: 87.42 2022-10-19 22:42:19.419926\n",
      "stopped\n",
      "['87.66 2022-10-19 22:36:48.905736', '87.42 2022-10-19 22:36:58.923252', '87.50 2022-10-19 22:37:08.938371', '87.81 2022-10-19 22:37:18.954175', '88.12 2022-10-19 22:37:28.970001', '88.20 2022-10-19 22:37:38.985976', '88.28 2022-10-19 22:37:49.001822', '88.43 2022-10-19 22:37:59.017301', '88.43 2022-10-19 22:38:09.031746', '88.59 2022-10-19 22:38:19.047069', '88.51 2022-10-19 22:38:29.061890', '88.43 2022-10-19 22:38:39.078814', '88.59 2022-10-19 22:38:49.093799', '88.59 2022-10-19 22:38:59.108965', '88.67 2022-10-19 22:39:09.124198', '88.51 2022-10-19 22:39:19.139766', '88.67 2022-10-19 22:39:29.154982', '88.67 2022-10-19 22:39:39.170114', '88.75 2022-10-19 22:39:49.185353', '88.67 2022-10-19 22:39:59.200484', '88.90 2022-10-19 22:40:09.216521', '88.82 2022-10-19 22:40:19.231644', '89.14 2022-10-19 22:40:29.246625', '89.06 2022-10-19 22:40:39.262479', '88.82 2022-10-19 22:40:49.278343', '88.43 2022-10-19 22:40:59.294215', '88.35 2022-10-19 22:41:09.309414', '88.04 2022-10-19 22:41:19.324667', '87.73 2022-10-19 22:41:29.342153', '87.66 2022-10-19 22:41:39.357710', '87.50 2022-10-19 22:41:49.373616', '87.42 2022-10-19 22:41:59.388807', '87.42 2022-10-19 22:42:09.403823', '87.42 2022-10-19 22:42:19.419926']\n",
      "Sent data: 87.66 2022-10-19 22:36:48.905736 87.42 2022-10-19 22:36:58.923252 87.50 2022-10-19 22:37:08.938371 87.81 2022-10-19 22:37:18.954175 88.12 2022-10-19 22:37:28.970001 88.20 2022-10-19 22:37:38.985976 88.28 2022-10-19 22:37:49.001822 88.43 2022-10-19 22:37:59.017301 88.43 2022-10-19 22:38:09.031746 88.59 2022-10-19 22:38:19.047069 88.51 2022-10-19 22:38:29.061890 88.43 2022-10-19 22:38:39.078814 88.59 2022-10-19 22:38:49.093799 88.59 2022-10-19 22:38:59.108965 88.67 2022-10-19 22:39:09.124198 88.51 2022-10-19 22:39:19.139766 88.67 2022-10-19 22:39:29.154982 88.67 2022-10-19 22:39:39.170114 88.75 2022-10-19 22:39:49.185353 88.67 2022-10-19 22:39:59.200484 88.90 2022-10-19 22:40:09.216521 88.82 2022-10-19 22:40:19.231644 89.14 2022-10-19 22:40:29.246625 89.06 2022-10-19 22:40:39.262479 88.82 2022-10-19 22:40:49.278343 88.43 2022-10-19 22:40:59.294215 88.35 2022-10-19 22:41:09.309414 88.04 2022-10-19 22:41:19.324667 87.73 2022-10-19 22:41:29.342153 87.66 2022-10-19 22:41:39.357710 87.50 2022-10-19 22:41:49.373616 87.42 2022-10-19 22:41:59.388807 87.42 2022-10-19 22:42:09.403823 87.42 2022-10-19 22:42:19.419926\n"
     ]
    }
   ],
   "source": [
    "\n",
    "while btn0.read() == 0:\n",
    "    led0.on()\n",
    "    temperature_list.append(('{:.2f}'.format(temp_sensor.get_temperature()*(9/5)+32))+\" \"+str(datetime.now()))\n",
    "#     try:\n",
    "#         pynqp2p.timedSend('172.27.8.7', str(temperature_list[-1]))\n",
    "#     except Exception as e:\n",
    "#         temperature_list.append(str(e))\n",
    "#         temperature_list.append(\"Above error timestamp: \" + str(datetime.now()))\n",
    "#         print(\"error logged\")\n",
    "#         continue\n",
    "    print(\"Temperature recorded and sent at: \" + temperature_list[-1])\n",
    "    \n",
    "    for i in range(time_slot): #implemented so the btn0 press can be detected while waiting for \n",
    "        time.sleep(1) #time_slot is initialized above\n",
    "        if btn0.read() == 1:\n",
    "            break\n",
    "    \n",
    "    \n",
    "led0.off()\n",
    "\n",
    "print(\"stopped\")\n",
    "print(temperature_list)\n",
    "\n",
    "#collectedDataStr = \" \".join(x for x in temperature_list)\n",
    "collectedDataStr = \" \".join(str(x) for x in temperature_list)\n",
    "\n",
    "for i in temperature_list:\n",
    "    splitData = i.split()\n",
    "    sheet1.write(column, 0, i)\n",
    "#     sheet1.write(column, 1, splitData[1])\n",
    "#     sheet1.write(column, 2, splitData[2])\n",
    "    column += 1\n",
    "    wb.save('abc.xls')\n",
    "    \n",
    "print(\"Sent data: \" + collectedDataStr)\n",
    "#pynqp2p.send('172.27.8.6', collectedDataStr)\n",
    "\n",
    "\n",
    "    "
   ]
  },
  {
   "cell_type": "code",
   "execution_count": null,
   "metadata": {},
   "outputs": [],
   "source": [
    "datetime.utcnow()"
   ]
  },
  {
   "cell_type": "code",
   "execution_count": null,
   "metadata": {
    "scrolled": false
   },
   "outputs": [],
   "source": [
    "dt = str(datetime.now())\n",
    "ht = dt[11:13]\n",
    "mt = dt[14:16]\n",
    "st = dt[17]\n",
    "print(ht + mt + st)"
   ]
  },
  {
   "cell_type": "code",
   "execution_count": null,
   "metadata": {},
   "outputs": [],
   "source": [
    "btn0.read()"
   ]
  },
  {
   "cell_type": "code",
   "execution_count": null,
   "metadata": {},
   "outputs": [],
   "source": [
    "print((temp_sensor.get_temperature()*(9/5)+32))"
   ]
  },
  {
   "cell_type": "code",
   "execution_count": null,
   "metadata": {},
   "outputs": [],
   "source": [
    "mess = pynqp2p.receive()\n",
    "print(mess)"
   ]
  },
  {
   "cell_type": "code",
   "execution_count": null,
   "metadata": {},
   "outputs": [],
   "source": [
    "import requests"
   ]
  },
  {
   "cell_type": "code",
   "execution_count": null,
   "metadata": {},
   "outputs": [],
   "source": [
    "# 1. Import the requests library\n",
    "\n",
    "URL = \"https://encrypted-tbn0.gstatic.com/images?q=tbn:ANd9GcQu_fpPmbK-bebEeX036y7frmW06amtCkG1ew&usqp=CAU\"\n",
    "# 2. download the data behind the URL\n",
    "response = requests.get(URL)\n",
    "open(\"sus.jpg\", \"wb\").write(response.content) \n"
   ]
  },
  {
   "cell_type": "code",
   "execution_count": null,
   "metadata": {},
   "outputs": [],
   "source": [
    "try:\n",
    "    pynqp2p.send('172.27.8.73', \"hi\")\n",
    "except Exception as e:\n",
    "    print(e)\n",
    "    "
   ]
  },
  {
   "cell_type": "code",
   "execution_count": null,
   "metadata": {
    "scrolled": true
   },
   "outputs": [],
   "source": [
    "wb = Workbook()\n",
    "sheet1 = wb.add_sheet('Sheet 1')\n",
    "\n",
    "try:\n",
    "    pynqp2p.timedSend('172.27.8.89', 'test')\n",
    "except Exception as e:\n",
    "    sheet1.write(1, 0, e)\n",
    "    sheet1.write(1, 1, 10)\n",
    "    sheet1.write(1, 2, 10)\n",
    "    \n",
    "wb.save(\"yes.xls\")"
   ]
  },
  {
   "cell_type": "code",
   "execution_count": 6,
   "metadata": {},
   "outputs": [
    {
     "name": "stdout",
     "output_type": "stream",
     "text": [
      "2022-12-15 00:28:38.196365\n"
     ]
    }
   ],
   "source": [
    "from datetime import datetime\n",
    "print(datetime.now())\n"
   ]
  },
  {
   "cell_type": "code",
   "execution_count": null,
   "metadata": {},
   "outputs": [],
   "source": []
  }
 ],
 "metadata": {
  "kernelspec": {
   "display_name": "Python 3",
   "language": "python",
   "name": "python3"
  },
  "language_info": {
   "codemirror_mode": {
    "name": "ipython",
    "version": 3
   },
   "file_extension": ".py",
   "mimetype": "text/x-python",
   "name": "python",
   "nbconvert_exporter": "python",
   "pygments_lexer": "ipython3",
   "version": "3.6.5"
  }
 },
 "nbformat": 4,
 "nbformat_minor": 2
}
